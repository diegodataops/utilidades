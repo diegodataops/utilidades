{
 "cells": [
  {
   "cell_type": "code",
   "execution_count": 2,
   "metadata": {},
   "outputs": [],
   "source": [
    "import re\n",
    "import string\n",
    "\n",
    "\n",
    "def remove_espacos_e_pontuacao(texto):    \n",
    "    # Define a regex pattern for punctuation characters except underscore\n",
    "    # * define padrao regex para caractere de pontuacao, aceitando '_'\n",
    "    padrao = f\"[{re.escape(string.punctuation).replace('_', '')}]\"\n",
    "    \n",
    "    # * remove caracteres de pontuacao    \n",
    "    texto_sem_pontuacao = re.sub(padrao, '', texto)\n",
    "    \n",
    "    # * substitui espacos por underscore\n",
    "    texto_com_underscore = texto_sem_pontuacao.replace(' ', '_')\n",
    "    \n",
    "    return texto_com_underscore"
   ]
  },
  {
   "cell_type": "markdown",
   "metadata": {},
   "source": [
    "# Exemplo de uso\n",
    "texto = \"Olá, mundo! Este é um teste: vamos remover toda a pontuação, exceto_essa...\"\n",
    "texto_modificado = remove_punctuation_and_replace_spaces(texto)\n",
    "print(texto_modificado)  # Saída: Olá_mundo_Este_é_um_teste_vamos_remover_toda_a_pontuação_exceto_essa\n"
   ]
  },
  {
   "cell_type": "code",
   "execution_count": 3,
   "metadata": {},
   "outputs": [],
   "source": [
    "texto = \"RA: Data Science and Supply Chain analytics. A-Z with Python\""
   ]
  },
  {
   "cell_type": "code",
   "execution_count": 4,
   "metadata": {},
   "outputs": [
    {
     "data": {
      "text/plain": [
       "'RA_Data_Science_and_Supply_Chain_analytics_AZ_with_Python'"
      ]
     },
     "execution_count": 4,
     "metadata": {},
     "output_type": "execute_result"
    }
   ],
   "source": [
    "remove_espacos_e_pontuacao(texto)"
   ]
  },
  {
   "cell_type": "code",
   "execution_count": null,
   "metadata": {},
   "outputs": [],
   "source": []
  }
 ],
 "metadata": {
  "kernelspec": {
   "display_name": ".venv",
   "language": "python",
   "name": "python3"
  },
  "language_info": {
   "codemirror_mode": {
    "name": "ipython",
    "version": 3
   },
   "file_extension": ".py",
   "mimetype": "text/x-python",
   "name": "python",
   "nbconvert_exporter": "python",
   "pygments_lexer": "ipython3",
   "version": "3.12.3"
  }
 },
 "nbformat": 4,
 "nbformat_minor": 2
}
